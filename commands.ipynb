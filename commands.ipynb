{
 "cells": [
  {
   "cell_type": "code",
   "execution_count": 1,
   "metadata": {},
   "outputs": [],
   "source": [
    "import numpy as np"
   ]
  },
  {
   "cell_type": "code",
   "execution_count": 2,
   "metadata": {},
   "outputs": [
    {
     "data": {
      "text/plain": [
       "'d:\\\\Code_Env\\\\Python_Env\\\\MlopsBootcamp\\\\DeployMachineLearningModel'"
      ]
     },
     "execution_count": 2,
     "metadata": {},
     "output_type": "execute_result"
    }
   ],
   "source": [
    "import os\n",
    "os.getcwd()"
   ]
  },
  {
   "cell_type": "code",
   "execution_count": 8,
   "metadata": {},
   "outputs": [],
   "source": [
    "import os\n",
    "from pathlib import Path\n",
    "import logging"
   ]
  },
  {
   "cell_type": "code",
   "execution_count": 9,
   "metadata": {},
   "outputs": [
    {
     "name": "stderr",
     "output_type": "stream",
     "text": [
      "[2024-11-07 11:04:43,156]: Creating directory .gthub\\workflows for the file : .gitkeep:\n",
      "[2024-11-07 11:04:43,156]: Creating empty file: .gthub\\workflows\\.gitkeep:\n",
      "[2024-11-07 11:04:43,156]: Creating directory src\\datascience for the file : __init__.py:\n",
      "[2024-11-07 11:04:43,156]: Creating empty file: src\\datascience\\__init__.py:\n",
      "[2024-11-07 11:04:43,156]: Creating directory src\\datascience\\components for the file : __init__.py:\n",
      "[2024-11-07 11:04:43,156]: Creating empty file: src\\datascience\\components\\__init__.py:\n",
      "[2024-11-07 11:04:43,156]: Creating directory src\\datascience\\utils for the file : __init__.py:\n",
      "[2024-11-07 11:04:43,156]: Creating empty file: src\\datascience\\utils\\__init__.py:\n",
      "[2024-11-07 11:04:43,156]: Creating directory src\\datascience\\utils for the file : common.py:\n",
      "[2024-11-07 11:04:43,156]: Creating empty file: src\\datascience\\utils\\common.py:\n",
      "[2024-11-07 11:04:43,156]: Creating directory src\\datascience\\config for the file : __init__.py:\n",
      "[2024-11-07 11:04:43,156]: Creating empty file: src\\datascience\\config\\__init__.py:\n",
      "[2024-11-07 11:04:43,156]: Creating directory src\\datascience\\config for the file : configuration.py:\n",
      "[2024-11-07 11:04:43,156]: Creating empty file: src\\datascience\\config\\configuration.py:\n",
      "[2024-11-07 11:04:43,156]: Creating directory src\\datascience\\pipeline for the file : __init__.py:\n",
      "[2024-11-07 11:04:43,156]: Creating empty file: src\\datascience\\pipeline\\__init__.py:\n",
      "[2024-11-07 11:04:43,156]: Creating directory src\\datascience\\entity for the file : __init__.py:\n",
      "[2024-11-07 11:04:43,161]: Creating empty file: src\\datascience\\entity\\__init__.py:\n",
      "[2024-11-07 11:04:43,161]: Creating directory src\\datascience\\entity for the file : config_entity.py:\n",
      "[2024-11-07 11:04:43,161]: Creating empty file: src\\datascience\\entity\\config_entity.py:\n",
      "[2024-11-07 11:04:43,161]: Creating directory src\\datascience\\constants for the file : __init__.py:\n",
      "[2024-11-07 11:04:43,161]: Creating empty file: src\\datascience\\constants\\__init__.py:\n",
      "[2024-11-07 11:04:43,162]: Creating directory config for the file : config.yaml:\n",
      "[2024-11-07 11:04:43,162]: Creating empty file: config\\config.yaml:\n",
      "[2024-11-07 11:04:43,162]: Creating empty file: params.yaml:\n",
      "[2024-11-07 11:04:43,162]: Creating empty file: schema.yaml:\n",
      "[2024-11-07 11:04:43,162]: Creating empty file: main.py:\n",
      "[2024-11-07 11:04:43,162]: Creating empty file: Dockerfile:\n",
      "[2024-11-07 11:04:43,162]: Creating empty file: setup.py:\n",
      "[2024-11-07 11:04:43,162]: Creating directory research for the file : research.ipynb:\n",
      "[2024-11-07 11:04:43,162]: Creating empty file: research\\research.ipynb:\n",
      "[2024-11-07 11:04:43,162]: Creating directory templates for the file : index.html:\n",
      "[2024-11-07 11:04:43,162]: Creating empty file: templates\\index.html:\n",
      "[2024-11-07 11:04:43,162]: Creating empty file: app.py:\n"
     ]
    }
   ],
   "source": [
    "!python template.py"
   ]
  },
  {
   "cell_type": "code",
   "execution_count": 19,
   "metadata": {},
   "outputs": [],
   "source": [
    "!git add ."
   ]
  },
  {
   "cell_type": "code",
   "execution_count": 20,
   "metadata": {},
   "outputs": [
    {
     "name": "stdout",
     "output_type": "stream",
     "text": [
      "[main 7fb1b5a] Project Structure is Ready\n",
      " 24 files changed, 65 insertions(+)\n",
      " create mode 100644 .gitignore\n",
      " create mode 100644 .gthub/workflows/.gitkeep\n",
      " create mode 100644 Dockerfile\n",
      " create mode 100644 app.py\n",
      " create mode 100644 commands.ipynb\n",
      " create mode 100644 config/config.yaml\n",
      " create mode 100644 main.py\n",
      " create mode 100644 params.yaml\n",
      " create mode 100644 requirements.txt\n",
      " create mode 100644 research/research.ipynb\n",
      " create mode 100644 schema.yaml\n",
      " create mode 100644 setup.py\n",
      " create mode 100644 src/datascience/__init__.py\n",
      " create mode 100644 src/datascience/components/__init__.py\n",
      " create mode 100644 src/datascience/config/__init__.py\n",
      " create mode 100644 src/datascience/config/configuration.py\n",
      " create mode 100644 src/datascience/constants/__init__.py\n",
      " create mode 100644 src/datascience/entity/__init__.py\n",
      " create mode 100644 src/datascience/entity/config_entity.py\n",
      " create mode 100644 src/datascience/pipeline/__init__.py\n",
      " create mode 100644 src/datascience/utils/__init__.py\n",
      " create mode 100644 src/datascience/utils/common.py\n",
      " create mode 100644 template.py\n",
      " create mode 100644 templates/index.html\n"
     ]
    }
   ],
   "source": [
    "!git commit -m \"Project Structure is Ready\""
   ]
  }
 ],
 "metadata": {
  "kernelspec": {
   "display_name": "env311",
   "language": "python",
   "name": "python3"
  },
  "language_info": {
   "codemirror_mode": {
    "name": "ipython",
    "version": 3
   },
   "file_extension": ".py",
   "mimetype": "text/x-python",
   "name": "python",
   "nbconvert_exporter": "python",
   "pygments_lexer": "ipython3",
   "version": "3.11.9"
  }
 },
 "nbformat": 4,
 "nbformat_minor": 2
}
